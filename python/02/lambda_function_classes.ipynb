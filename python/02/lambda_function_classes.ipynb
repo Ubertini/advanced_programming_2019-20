{
 "cells": [
  {
   "cell_type": "code",
   "execution_count": 5,
   "metadata": {},
   "outputs": [
    {
     "data": {
      "text/plain": [
       "['miao', 'giao', 'ecc', 'ciao', 'bu', 'blo', 'bla']"
      ]
     },
     "execution_count": 5,
     "metadata": {},
     "output_type": "execute_result"
    }
   ],
   "source": [
    "reverse_order=lambda a: sorted(a,reverse=True)\n",
    "lista=[\"ciao\",\"miao\", \"giao\",\"bla\",\"blo\",\"bu\",\"ecc\"]\n",
    "reverse_order(lista)"
   ]
  },
  {
   "cell_type": "code",
   "execution_count": 12,
   "metadata": {},
   "outputs": [
    {
     "name": "stdout",
     "output_type": "stream",
     "text": [
      "0\n",
      "1\n",
      "2\n",
      "3\n",
      "4\n",
      "5\n",
      "6\n",
      "7\n",
      "8\n",
      "9\n"
     ]
    }
   ],
   "source": [
    "a=range(10)\n",
    "for i in a:\n",
    "    print(i)"
   ]
  },
  {
   "cell_type": "code",
   "execution_count": 182,
   "metadata": {},
   "outputs": [
    {
     "name": "stdout",
     "output_type": "stream",
     "text": [
      "Sequence1: [0, 2, 4, 6, 8]\n"
     ]
    }
   ],
   "source": [
    "class Sequence():\n",
    "    def __init__(self,range_to_construct):\n",
    "        self.lista=[]\n",
    "        for i in range_to_construct:\n",
    "            self.lista.append(i)\n",
    "            \n",
    "    def __len__(self):\n",
    "        return len(self.lista)\n",
    "    \n",
    "    def __str__(self):\n",
    "        return 'Sequence1: {}'.format(self.lista)\n",
    "    \n",
    "    def __eq__(self,other):\n",
    "        ret=None\n",
    "        if(len(self)!=len(other)):\n",
    "            ret=False\n",
    "            return ret\n",
    "        else:\n",
    "            sorted(self.lista)\n",
    "            sorted(other.lista)\n",
    "            for i in range(len(self)):\n",
    "                if(self.lista[i]!=other.lista[i]):\n",
    "                    ret=False\n",
    "                    return ret\n",
    "                \n",
    "            ret=True\n",
    "            return ret\n",
    "    \n",
    "    def __getitem__(self,key):\n",
    "        return self.lista[key]\n",
    "    \n",
    "    def __setitem__(self,key,item):\n",
    "        self.lista[key]=item\n",
    "    \n",
    "    def __delitem__(self,item):\n",
    "        del(self.lista[item])\n",
    "    \n",
    "    def __iter__(self):\n",
    "        return iter(self.lista)\n",
    "    \n",
    "    def insert(self,position,value):\n",
    "        self.lista=self.lista[:position] + [value] + self.lista[position:]\n",
    "    \n",
    "    def append(self,value):\n",
    "        self.lista.append(value)\n",
    "    \n",
    "    def __copy__(self):\n",
    "        new_sequence = copy.deepcopy(self)\n",
    "        return new_sequence\n",
    "    \n",
    "p = Sequence(range(10))\n",
    "del p[1:10:2]\n",
    "print(p)\n",
    "p.append(5)\n",
    "q=p.__copy__()\n",
    "p.append(10)"
   ]
  },
  {
   "cell_type": "code",
   "execution_count": 198,
   "metadata": {},
   "outputs": [
    {
     "name": "stdout",
     "output_type": "stream",
     "text": [
      "Sequence1: [0, 40, 4, 6, 8, 5, 10]\n",
      "Sequence1: [0, 50, 4, 6, 8, 5, 10]\n"
     ]
    }
   ],
   "source": [
    "import copy\n",
    "q=copy.copy(p)\n",
    "p[1]=50\n",
    "print(q)\n",
    "print(p)"
   ]
  },
  {
   "cell_type": "code",
   "execution_count": null,
   "metadata": {},
   "outputs": [],
   "source": []
  }
 ],
 "metadata": {
  "kernelspec": {
   "display_name": "Python 3",
   "language": "python",
   "name": "python3"
  },
  "language_info": {
   "codemirror_mode": {
    "name": "ipython",
    "version": 3
   },
   "file_extension": ".py",
   "mimetype": "text/x-python",
   "name": "python",
   "nbconvert_exporter": "python",
   "pygments_lexer": "ipython3",
   "version": "3.7.3"
  }
 },
 "nbformat": 4,
 "nbformat_minor": 2
}
