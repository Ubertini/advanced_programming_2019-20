{
 "cells": [
  {
   "cell_type": "code",
   "execution_count": 4,
   "metadata": {},
   "outputs": [
    {
     "name": "stdout",
     "output_type": "stream",
     "text": [
      "True\n"
     ]
    }
   ],
   "source": [
    "def is_palindrome(string_var):     \n",
    "    '''\n",
    "    returns True if string_var is palindrome, False otherwise\n",
    "    '''\n",
    "    string_var=string_var.lower()\n",
    "    if(string_var==string_var[::-1]):\n",
    "        ret=True\n",
    "    else:\n",
    "        ret = None\n",
    "    return ret \n",
    "\n",
    "A=\"Anna\"\n",
    "print(is_palindrome(A))\n"
   ]
  },
  {
   "cell_type": "code",
   "execution_count": 15,
   "metadata": {},
   "outputs": [
    {
     "name": "stdout",
     "output_type": "stream",
     "text": [
      "['1', '1', '2', '3', 'a', 'a', 'a', 'c', 'f', 'g', 'h', 'i', 'o', 'o', 'o', 's']\n"
     ]
    },
    {
     "data": {
      "text/plain": [
       "{'1': 2,\n",
       " '2': 1,\n",
       " '3': 1,\n",
       " 'a': 3,\n",
       " 'c': 1,\n",
       " 'f': 1,\n",
       " 'g': 1,\n",
       " 'h': 1,\n",
       " 'i': 1,\n",
       " 'o': 3,\n",
       " 's': 1}"
      ]
     },
     "execution_count": 15,
     "metadata": {},
     "output_type": "execute_result"
    }
   ],
   "source": [
    "def histogram_letters(string_var):     \n",
    "    '''\n",
    "    count how many times a letter is present in the string_var\n",
    "    and returns a dict\n",
    "\n",
    "    '''\n",
    "    ret=None\n",
    "    \n",
    "    tuples_list=[]\n",
    "    string_var=string_var.lower()\n",
    "    string_var=sorted(string_var)\n",
    "    \n",
    "    tuples_list=[(string_var[0],1)]\n",
    "    count=0\n",
    "    for i in range(1,len(string_var)):\n",
    "        if(string_var[i]!=string_var[i-1]):\n",
    "            tuples_list.append((string_var[i],1))\n",
    "            count+=1\n",
    "        else:\n",
    "            a,b=tuples_list[count][0],(tuples_list[count][1]+1)\n",
    "            del(tuples_list[count])\n",
    "            tuples_list.append((a,b))\n",
    "    \n",
    "    ret=dict(tuples_list)    \n",
    "    return ret\n",
    "histogram_letters(\"cia3121fsaghaooo\")"
   ]
  },
  {
   "cell_type": "code",
   "execution_count": 31,
   "metadata": {},
   "outputs": [
    {
     "data": {
      "text/plain": [
       "('dog', 2)"
      ]
     },
     "execution_count": 31,
     "metadata": {},
     "output_type": "execute_result"
    }
   ],
   "source": [
    "def get_most_frequent(list_var):\n",
    "    '''\n",
    "    returns a tuple with the most frequent object in the list with the \n",
    "    corresponing number\n",
    "    '''\n",
    "    ret = None\n",
    "    \n",
    "    tuples_list=[]\n",
    "    list_var=sorted(list_var)\n",
    "    \n",
    "    tuples_list=[(list_var[0],1)]\n",
    "    count=0\n",
    "    for i in range(1,len(list_var)):\n",
    "        if(list_var[i]!=list_var[i-1]):\n",
    "            tuples_list.append((list_var[i],1))\n",
    "            count+=1\n",
    "        else:\n",
    "            a,b=tuples_list[count][0],(tuples_list[count][1]+1)\n",
    "            del(tuples_list[count])\n",
    "            tuples_list.append((a,b))\n",
    "    \n",
    "    ret=dict(tuples_list) \n",
    "    most_repeted=max(ret, key=ret.get)\n",
    "    return (most_repeted,ret[most_repeted])\n",
    "lista=[\"dog\",\"cat\",\"dog\"]\n",
    "get_most_frequent(lista)"
   ]
  },
  {
   "cell_type": "code",
   "execution_count": 36,
   "metadata": {},
   "outputs": [
    {
     "data": {
      "text/plain": [
       "{'cat': 1, 'dog': 2}"
      ]
     },
     "execution_count": 36,
     "metadata": {},
     "output_type": "execute_result"
    }
   ],
   "source": [
    "def which_duplicates(list_var):\n",
    "    '''\n",
    "    return a dict with containing the repeted object and the number of repetitions\n",
    "    '''\n",
    "    ret = None\n",
    "    \n",
    "    tuples_list=[]\n",
    "    list_var=sorted(list_var)\n",
    "    \n",
    "    tuples_list=[(list_var[0],1)]\n",
    "    count=0\n",
    "    for i in range(1,len(list_var)):\n",
    "        if(list_var[i]!=list_var[i-1]):\n",
    "            tuples_list.append((list_var[i],1))\n",
    "            count+=1\n",
    "        else:\n",
    "            a,b=tuples_list[count][0],(tuples_list[count][1]+1)\n",
    "            del(tuples_list[count])\n",
    "            tuples_list.append((a,b))\n",
    "    \n",
    "    ret=dict(tuples_list) \n",
    "    return ret\n",
    "lista=[\"dog\",\"cat\",\"dog\"]\n",
    "which_duplicates(lista)"
   ]
  },
  {
   "cell_type": "code",
   "execution_count": 51,
   "metadata": {},
   "outputs": [
    {
     "data": {
      "text/plain": [
       "1"
      ]
     },
     "execution_count": 51,
     "metadata": {},
     "output_type": "execute_result"
    }
   ],
   "source": [
    "def compute_factorial(int_val):\n",
    "    '''\n",
    "    returns factorial of a number\n",
    "    '''\n",
    "    if int_val<0:\n",
    "        print(\"Insert a natural number\")\n",
    "    else:\n",
    "        return 1 if int_val<2 else int_val * compute_factorial(int_val-1)\n",
    "compute_factorial(0)"
   ]
  },
  {
   "cell_type": "code",
   "execution_count": 5,
   "metadata": {},
   "outputs": [
    {
     "name": "stdout",
     "output_type": "stream",
     "text": [
      "False\n",
      "(3, True)\n",
      "False\n",
      "(5, True)\n",
      "False\n",
      "(7, True)\n",
      "False\n",
      "False\n",
      "False\n",
      "(11, True)\n",
      "False\n",
      "(13, True)\n",
      "False\n",
      "False\n",
      "False\n",
      "(17, True)\n",
      "False\n",
      "(19, True)\n",
      "False\n",
      "False\n",
      "False\n",
      "(23, True)\n",
      "False\n",
      "False\n",
      "False\n",
      "False\n",
      "False\n",
      "(29, True)\n",
      "False\n",
      "(31, True)\n",
      "False\n",
      "False\n",
      "False\n",
      "False\n",
      "False\n",
      "(37, True)\n",
      "False\n",
      "False\n",
      "False\n",
      "(41, True)\n",
      "False\n",
      "(43, True)\n",
      "False\n",
      "False\n",
      "False\n",
      "(47, True)\n",
      "False\n",
      "False\n",
      "False\n",
      "False\n",
      "False\n",
      "(53, True)\n",
      "False\n",
      "False\n",
      "False\n",
      "False\n",
      "False\n",
      "(59, True)\n",
      "False\n",
      "(61, True)\n",
      "False\n",
      "False\n",
      "False\n",
      "False\n",
      "False\n",
      "(67, True)\n",
      "False\n",
      "False\n",
      "False\n",
      "(71, True)\n",
      "False\n",
      "(73, True)\n",
      "False\n",
      "False\n",
      "False\n",
      "False\n",
      "False\n",
      "(79, True)\n",
      "False\n",
      "False\n",
      "False\n",
      "(83, True)\n",
      "False\n",
      "False\n",
      "False\n",
      "False\n",
      "False\n",
      "(89, True)\n",
      "False\n",
      "False\n",
      "False\n",
      "False\n",
      "False\n",
      "False\n",
      "False\n",
      "(97, True)\n",
      "False\n",
      "False\n"
     ]
    }
   ],
   "source": [
    "def is_prime(int_val):\n",
    "    '''\n",
    "    returns True if int_val is prime, False otherwise\n",
    "    '''\n",
    "    ret = None\n",
    "    half=int(int_val/2)\n",
    "    if(int_val%2==0):\n",
    "        ret=False\n",
    "        return ret\n",
    "    else:\n",
    "        for i in range(3,half+1,2):\n",
    "            if(int_val%i==0):\n",
    "                ret=False\n",
    "                return ret\n",
    "    ret=True\n",
    "    return (int_val,ret)\n",
    "\n",
    "for i in range(2,100):\n",
    "    print(is_prime(i))"
   ]
  },
  {
   "cell_type": "code",
   "execution_count": null,
   "metadata": {},
   "outputs": [],
   "source": []
  }
 ],
 "metadata": {
  "kernelspec": {
   "display_name": "Python 3",
   "language": "python",
   "name": "python3"
  },
  "language_info": {
   "codemirror_mode": {
    "name": "ipython",
    "version": 3
   },
   "file_extension": ".py",
   "mimetype": "text/x-python",
   "name": "python",
   "nbconvert_exporter": "python",
   "pygments_lexer": "ipython3",
   "version": "3.7.3"
  }
 },
 "nbformat": 4,
 "nbformat_minor": 4
}
